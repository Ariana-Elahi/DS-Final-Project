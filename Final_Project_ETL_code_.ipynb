{
  "nbformat": 4,
  "nbformat_minor": 0,
  "metadata": {
    "colab": {
      "provenance": []
    },
    "kernelspec": {
      "name": "python3",
      "display_name": "Python 3"
    },
    "language_info": {
      "name": "python"
    }
  },
  "cells": [
    {
      "cell_type": "code",
      "source": [
        "import pandas as pd\n",
        "import json\n",
        "import requests"
      ],
      "metadata": {
        "id": "Q8MEkeM1KBmY"
      },
      "execution_count": 1,
      "outputs": []
    },
    {
      "cell_type": "code",
      "execution_count": 2,
      "metadata": {
        "colab": {
          "base_uri": "https://localhost:8080/"
        },
        "id": "ClLN9q5VJjnR",
        "outputId": "8336cbaa-6e70-4723-deef-ac8548eff7f7"
      },
      "outputs": [
        {
          "output_type": "stream",
          "name": "stdout",
          "text": [
            "   Data.Precipitation   Date.Full  Date.Month  Date.Week of  Date.Year  \\\n",
            "0                0.00  2016-01-03           1             3       2016   \n",
            "1                0.00  2016-01-03           1             3       2016   \n",
            "2                0.16  2016-01-03           1             3       2016   \n",
            "3                0.00  2016-01-03           1             3       2016   \n",
            "4                0.01  2016-01-03           1             3       2016   \n",
            "\n",
            "  Station.City Station.Code Station.Location Station.State  \\\n",
            "0   Birmingham          BHM   Birmingham, AL       Alabama   \n",
            "1   Huntsville          HSV   Huntsville, AL       Alabama   \n",
            "2       Mobile          MOB       Mobile, AL       Alabama   \n",
            "3   Montgomery          MGM   Montgomery, AL       Alabama   \n",
            "4    Anchorage          ANC    Anchorage, AK        Alaska   \n",
            "\n",
            "   Data.Temperature.Avg Temp  Data.Temperature.Max Temp  \\\n",
            "0                         39                         46   \n",
            "1                         39                         47   \n",
            "2                         46                         51   \n",
            "3                         45                         52   \n",
            "4                         34                         38   \n",
            "\n",
            "   Data.Temperature.Min Temp  Data.Wind.Direction  Data.Wind.Speed  \n",
            "0                         32                   33             4.33  \n",
            "1                         31                   32             3.86  \n",
            "2                         41                   35             9.73  \n",
            "3                         38                   32             6.86  \n",
            "4                         29                   19             7.80  \n",
            "Index(['Data.Precipitation', 'Date.Full', 'Date.Month', 'Date.Week of',\n",
            "       'Date.Year', 'Station.City', 'Station.Code', 'Station.Location',\n",
            "       'Station.State', 'Data.Temperature.Avg Temp',\n",
            "       'Data.Temperature.Max Temp', 'Data.Temperature.Min Temp',\n",
            "       'Data.Wind.Direction', 'Data.Wind.Speed'],\n",
            "      dtype='object')\n"
          ]
        }
      ],
      "source": [
        "#local file\n",
        "\n",
        "local_file = \"/content/weather.csv\"\n",
        "\n",
        "try:\n",
        "    data = pd.read_csv(local_file)\n",
        "    print(data.head())\n",
        "    print(data.columns)\n",
        "except FileNotFoundError:\n",
        "    print(\"Error: The file was not found.\")\n"
      ]
    },
    {
      "cell_type": "code",
      "source": [
        "# cleaned Data\n",
        "df = pd.DataFrame(data, columns=['Station.State', 'Date.Year', 'Date.Month', 'Data.Precipitation','Data.Temperature.Avg Temp', 'Data.Wind.Speed','Data.Wind.Direction'])\n",
        "df = df.loc[df['Date.Month'] == 3]\n",
        "\n",
        "# group by 'Station.State', 'Date.Year', and 'Date.Month' + calc average for specified columns\n",
        "grouped_df = df.groupby(['Station.State', 'Date.Year', 'Date.Month'])[['Data.Precipitation',\n",
        "                                                                      'Data.Temperature.Avg Temp',\n",
        "                                                                      'Data.Wind.Speed',\n",
        "                                                                      'Data.Wind.Direction']].mean()\n",
        "\n",
        "grouped_df = grouped_df.reset_index()\n",
        "grouped_df = grouped_df.round(2)\n",
        "print(grouped_df)\n"
      ],
      "metadata": {
        "colab": {
          "base_uri": "https://localhost:8080/"
        },
        "id": "jDqkj0J-OSMk",
        "outputId": "bd09d644-2ba4-438c-e24c-77ba56912567"
      },
      "execution_count": 3,
      "outputs": [
        {
          "output_type": "stream",
          "name": "stdout",
          "text": [
            "     Station.State  Date.Year  Date.Month  Data.Precipitation  \\\n",
            "0          Alabama       2016           3                1.30   \n",
            "1           Alaska       2016           3                0.36   \n",
            "2          Arizona       2016           3                0.02   \n",
            "3         Arkansas       2016           3                1.26   \n",
            "4       California       2016           3                0.84   \n",
            "5         Colorado       2016           3                0.17   \n",
            "6      Connecticut       2016           3                0.39   \n",
            "7               DE       2016           3                0.34   \n",
            "8         Delaware       2016           3                0.34   \n",
            "9          Florida       2016           3                0.61   \n",
            "10         Georgia       2016           3                0.72   \n",
            "11          Hawaii       2016           3                0.53   \n",
            "12           Idaho       2016           3                0.51   \n",
            "13        Illinois       2016           3                0.63   \n",
            "14         Indiana       2016           3                0.86   \n",
            "15            Iowa       2016           3                0.58   \n",
            "16          Kansas       2016           3                0.23   \n",
            "17        Kentucky       2016           3                0.94   \n",
            "18       Louisiana       2016           3                1.90   \n",
            "19           Maine       2016           3                0.71   \n",
            "20        Maryland       2016           3                0.44   \n",
            "21   Massachusetts       2016           3                0.45   \n",
            "22        Michigan       2016           3                0.74   \n",
            "23       Minnesota       2016           3                0.56   \n",
            "24     Mississippi       2016           3                2.29   \n",
            "25        Missouri       2016           3                0.48   \n",
            "26         Montana       2016           3                0.11   \n",
            "27        Nebraska       2016           3                0.25   \n",
            "28          Nevada       2016           3                0.07   \n",
            "29   New Hampshire       2016           3                0.42   \n",
            "30      New Jersey       2016           3                0.44   \n",
            "31      New Mexico       2016           3                0.02   \n",
            "32        New York       2016           3                0.38   \n",
            "33  North Carolina       2016           3                0.58   \n",
            "34    North Dakota       2016           3                0.07   \n",
            "35            Ohio       2016           3                0.88   \n",
            "36        Oklahoma       2016           3                0.32   \n",
            "37          Oregon       2016           3                1.09   \n",
            "38    Pennsylvania       2016           3                0.35   \n",
            "39     Puerto Rico       2016           3                0.52   \n",
            "40    Rhode Island       2016           3                0.59   \n",
            "41  South Carolina       2016           3                0.49   \n",
            "42    South Dakota       2016           3                0.19   \n",
            "43       Tennessee       2016           3                0.99   \n",
            "44           Texas       2016           3                0.67   \n",
            "45            Utah       2016           3                0.36   \n",
            "46              VA       2016           3                0.50   \n",
            "47         Vermont       2016           3                0.42   \n",
            "48        Virginia       2016           3                0.47   \n",
            "49      Washington       2016           3                1.46   \n",
            "50   West Virginia       2016           3                0.54   \n",
            "51       Wisconsin       2016           3                0.71   \n",
            "52         Wyoming       2016           3                0.25   \n",
            "\n",
            "    Data.Temperature.Avg Temp  Data.Wind.Speed  Data.Wind.Direction  \n",
            "0                       60.31             6.60                19.88  \n",
            "1                       31.48             6.44                14.17  \n",
            "2                       59.85             4.81                20.80  \n",
            "3                       55.00             4.41                11.83  \n",
            "4                       57.88             5.41                22.04  \n",
            "5                       40.50             5.54                20.04  \n",
            "6                       43.38             6.48                19.38  \n",
            "7                       47.75             6.76                18.00  \n",
            "8                       47.75             6.76                18.00  \n",
            "9                       69.85             7.02                18.29  \n",
            "10                      60.92             5.28                21.04  \n",
            "11                      73.40             7.20                15.40  \n",
            "12                      45.17             6.42                16.75  \n",
            "13                      44.79             7.72                19.29  \n",
            "14                      45.94             7.46                20.44  \n",
            "15                      41.55             9.24                19.80  \n",
            "16                      48.88             9.44                22.08  \n",
            "17                      51.55             6.11                19.90  \n",
            "18                      64.60             7.06                16.60  \n",
            "19                      30.08             6.33                22.42  \n",
            "20                      49.50             6.31                17.75  \n",
            "21                      46.75             8.17                19.25  \n",
            "22                      35.78             5.53                15.28  \n",
            "23                      34.10             7.33                16.95  \n",
            "24                      60.07             6.75                17.36  \n",
            "25                      50.32             8.53                19.39  \n",
            "26                      39.07             7.33                22.41  \n",
            "27                      43.22             8.83                23.88  \n",
            "28                      49.38             6.03                19.71  \n",
            "29                      42.60            16.40                23.40  \n",
            "30                      47.25             7.11                19.50  \n",
            "31                      51.42             6.87                21.42  \n",
            "32                      40.69             6.58                18.28  \n",
            "33                      56.68             6.15                19.04  \n",
            "34                      36.15             7.96                18.80  \n",
            "35                      44.21             7.34                19.07  \n",
            "36                      53.69            10.07                18.56  \n",
            "37                      46.75             6.59                19.78  \n",
            "38                      45.61             5.83                19.21  \n",
            "39                      79.00             8.91                 8.75  \n",
            "40                      42.75             6.98                18.75  \n",
            "41                      60.00             5.72                18.38  \n",
            "42                      39.40             9.02                20.35  \n",
            "43                      54.38             4.95                20.09  \n",
            "44                      61.85             9.04                17.11  \n",
            "45                      47.75             5.07                23.25  \n",
            "46                      53.25             4.88                20.50  \n",
            "47                      35.00             6.10                24.50  \n",
            "48                      52.38             6.60                17.50  \n",
            "49                      44.79             6.08                17.68  \n",
            "50                      49.12             4.70                21.50  \n",
            "51                      38.12             7.16                17.00  \n",
            "52                      38.00             8.98                25.60  \n"
          ]
        }
      ]
    },
    {
      "cell_type": "code",
      "source": [
        "grouped_df.to_csv(\"2016_cleaned_data.csv\", index=False)\n"
      ],
      "metadata": {
        "id": "GkoSpnPIWnoK"
      },
      "execution_count": 4,
      "outputs": []
    },
    {
      "cell_type": "code",
      "source": [
        "# calling/creating API\n",
        "\n",
        "import requests\n",
        "\n",
        "def get_current_weather(api_key, location):\n",
        "    try:\n",
        "        url = \"http://api.weatherapi.com/v1/current.json\"\n",
        "        params = {\"key\": api_key, \"q\": location}\n",
        "        response = requests.get(url, params=params)\n",
        "\n",
        "        response.raise_for_status()\n",
        "\n",
        "        data = response.json()\n",
        "        current = data.get(\"current\", {})\n",
        "\n",
        "        summary = {\n",
        "            \"Location\": data.get(\"location\", {}).get(\"region\"),\n",
        "            \"Time\": current.get(\"last_updated\"),\n",
        "            \"Precipitation (mm)\": current.get(\"precip_mm\"),\n",
        "            \"Temperature (°F)\": current.get(\"temp_f\"),\n",
        "            \"Wind Speed (mph)\": current.get(\"wind_mph\"),\n",
        "            \"Wind Direction\": current.get(\"wind_dir\"),\n",
        "        }\n",
        "        return summary\n",
        "\n",
        "    except requests.RequestException as e:\n",
        "        print(f\"Error fetching weather data: {e}\")\n",
        "        return None\n",
        "\n",
        "# Usage\n",
        "api_key = \"23b0589184d4491b85923455251903\"\n",
        "location = \"Alabama\"\n",
        "\n",
        "data = get_current_weather(api_key, location)\n",
        "print(data)\n"
      ],
      "metadata": {
        "colab": {
          "base_uri": "https://localhost:8080/"
        },
        "id": "rNbsF45XQ1to",
        "outputId": "16fc05f4-5e37-4910-93d7-23c678ea2192"
      },
      "execution_count": 5,
      "outputs": [
        {
          "output_type": "stream",
          "name": "stdout",
          "text": [
            "{'Location': 'New York', 'Time': '2025-05-09 21:15', 'Precipitation (mm)': 0.0, 'Temperature (°F)': 50.2, 'Wind Speed (mph)': 2.2, 'Wind Direction': 'ENE'}\n"
          ]
        }
      ]
    },
    {
      "cell_type": "code",
      "source": [
        "#cleaned API\n",
        "country = 'USA United States of America'\n",
        "\n",
        "# all 50 U.S. states\n",
        "states = [\n",
        "    \"Alabama\", \"Alaska\", \"Arizona\", \"Arkansas\", \"California\", \"Colorado\", \"Connecticut\", \"Delaware\",\n",
        "    \"Florida\", \"Georgia\", \"Hawaii\", \"Idaho\", \"Illinois\", \"Indiana\", \"Iowa\", \"Kansas\", \"Kentucky\",\n",
        "    \"Louisiana\", \"Maine\", \"Maryland\", \"Massachusetts\", \"Michigan\", \"Minnesota\", \"Mississippi\",\n",
        "    \"Missouri\", \"Montana\", \"Nebraska\", \"Nevada\", \"New Hampshire\", \"New Jersey\", \"New Mexico\",\n",
        "    \"New York\", \"North Carolina\", \"North Dakota\", \"Ohio\", \"Oklahoma\", \"Oregon\", \"Pennsylvania\",\n",
        "    \"Rhode Island\", \"South Carolina\", \"South Dakota\", \"Tennessee\", \"Texas\", \"Utah\", \"Vermont\",\n",
        "    \"Virginia\", \"Washington\", \"West Virginia\", \"Wisconsin\", \"Wyoming\"\n",
        "]\n",
        "\n",
        "weather_data = []\n",
        "for state in states:\n",
        "    try:\n",
        "        data = get_current_weather(api_key, f\"{state}, {country}\")\n",
        "        if data:\n",
        "            weather_data.append(data)\n",
        "        else:\n",
        "            print(f\" No data returned for {state}.\")\n",
        "    except Exception as e:\n",
        "        print(f\"Error fetching data for {state}: {e}\")\n",
        "\n",
        "# convert  df and save as CSV\n",
        "try:\n",
        "    if weather_data:\n",
        "        weather_df = pd.DataFrame(weather_data)\n",
        "        weather_df.to_csv(\"2025_weather_data.csv\", index=False)\n",
        "        print(\"CSV file '2025_weather_data.csv' created successfully!\")\n",
        "    else:\n",
        "        print(\"No weather data was collected, CSV file not created.\")\n",
        "except Exception as e:\n",
        "    print(f\"Error saving CSV file: {e}\")"
      ],
      "metadata": {
        "colab": {
          "base_uri": "https://localhost:8080/"
        },
        "id": "IU9nEpgnSFpR",
        "outputId": "85ffeae0-fa76-46c5-98d6-3cb1d633005d"
      },
      "execution_count": 6,
      "outputs": [
        {
          "output_type": "stream",
          "name": "stdout",
          "text": [
            "CSV file '2025_weather_data.csv' created successfully!\n"
          ]
        }
      ]
    },
    {
      "cell_type": "code",
      "source": [
        "# 2025_weather in json (Supported Formats: You must implement support for both CSV and JSON formats\n",
        "#(retrieved from either file dumps or API calls). The two data sources do not need to\n",
        "#be merged but should be handled separately)\n",
        "\n",
        "weather_df.to_json(\"2025_weather_data.json\", orient=\"records\", indent=4)\n"
      ],
      "metadata": {
        "id": "ANCzH4l2SdAo"
      },
      "execution_count": 7,
      "outputs": []
    },
    {
      "cell_type": "markdown",
      "source": [
        "Cleaning the Data to be Merged"
      ],
      "metadata": {
        "id": "2SzlCMDns1Rx"
      }
    },
    {
      "cell_type": "code",
      "source": [
        "# in grouped df, get rid of DE, puerto rico, two ohios, and va\n",
        "grouped_df2 = grouped_df.loc[~grouped_df[\"Station.State\"].isin([\"DE\", \"Puerto Rico\", \"VA\", \"Delaware\", \"Florida\", \"Indiana\", \"Oregon\", \"Washington\", \"Wyoming\"])]\n",
        "\n",
        "# weather df does not have delaware or florida or indiana or oregon or washington\n",
        "# has two michigans, three ohios, two pennsylvanis, district of columbia, and puerto rico\n",
        "weather_df = weather_df.sort_values(by=\"Location\").reset_index(drop=True)\n",
        "weather_df2 = weather_df.loc[~weather_df[\"Location\"].isin([\"District of Columbia\", \"Puerto Rico\"])]\n",
        "weather_df2 = weather_df2.drop_duplicates(subset=\"Location\", keep=\"first\").reset_index(drop=True)\n"
      ],
      "metadata": {
        "id": "kOXpfQ0kNJdL"
      },
      "execution_count": 8,
      "outputs": []
    },
    {
      "cell_type": "code",
      "source": [
        "# checking to make sure we have the same states...\n",
        "# check if all states in grouped_df are present in weather_df\n",
        "grouped_states = set(grouped_df2[\"Station.State\"])\n",
        "weather_states = set(weather_df2[\"Location\"])\n",
        "\n",
        "# find states missing from either DataFrame\n",
        "missing_from_weather = grouped_states - weather_states\n",
        "missing_from_grouped = weather_states - grouped_states\n",
        "\n",
        "# error messages\n",
        "print(\"States in grouped_df but not in weather_df:\", missing_from_weather)\n",
        "print(\"States in weather_df but not in grouped_df:\", missing_from_grouped)"
      ],
      "metadata": {
        "colab": {
          "base_uri": "https://localhost:8080/"
        },
        "id": "q3EYH0jaQIqc",
        "outputId": "23485d68-fa59-4a9a-a71b-e672efa7d862"
      },
      "execution_count": 9,
      "outputs": [
        {
          "output_type": "stream",
          "name": "stdout",
          "text": [
            "States in grouped_df but not in weather_df: set()\n",
            "States in weather_df but not in grouped_df: set()\n"
          ]
        }
      ]
    },
    {
      "cell_type": "code",
      "source": [
        "# MERGING TO COMPARE MARCH 2016 TO 2025\n",
        "\n",
        "# rename columns to indicate source dataset\n",
        "grouped_df2 = grouped_df2.add_suffix(\"_dataset\")\n",
        "weather_df2 = weather_df2.add_suffix(\"_api\")\n",
        "\n",
        "# merge on state/location\n",
        "final_df2 = pd.merge(\n",
        "    grouped_df2, weather_df2,\n",
        "    left_on=\"Station.State_dataset\", right_on=\"Location_api\",\n",
        "    how=\"inner\"  # or \"outer\" if you want to keep unmatched states\n",
        ")\n",
        "\n",
        "# drop redundant state columns if necessary\n",
        "final_df2.drop(columns=[\"Location_api\"], inplace=True)\n",
        "\n",
        "print(final_df2.head())\n",
        "print(final_df2.tail())\n"
      ],
      "metadata": {
        "colab": {
          "base_uri": "https://localhost:8080/"
        },
        "id": "xSrrezvQExJR",
        "outputId": "eec8d479-6950-4c8a-d0a0-ec1aceb6c278"
      },
      "execution_count": 10,
      "outputs": [
        {
          "output_type": "stream",
          "name": "stdout",
          "text": [
            "  Station.State_dataset  Date.Year_dataset  Date.Month_dataset  \\\n",
            "0               Alabama               2016                   3   \n",
            "1                Alaska               2016                   3   \n",
            "2               Arizona               2016                   3   \n",
            "3              Arkansas               2016                   3   \n",
            "4            California               2016                   3   \n",
            "\n",
            "   Data.Precipitation_dataset  Data.Temperature.Avg Temp_dataset  \\\n",
            "0                        1.30                              60.31   \n",
            "1                        0.36                              31.48   \n",
            "2                        0.02                              59.85   \n",
            "3                        1.26                              55.00   \n",
            "4                        0.84                              57.88   \n",
            "\n",
            "   Data.Wind.Speed_dataset  Data.Wind.Direction_dataset          Time_api  \\\n",
            "0                     6.60                        19.88  2025-05-09 20:15   \n",
            "1                     6.44                        14.17  2025-05-09 17:15   \n",
            "2                     4.81                        20.80  2025-05-09 18:15   \n",
            "3                     4.41                        11.83  2025-05-09 20:15   \n",
            "4                     5.41                        22.04  2025-05-09 18:15   \n",
            "\n",
            "   Precipitation (mm)_api  Temperature (°F)_api  Wind Speed (mph)_api  \\\n",
            "0                     0.0                  70.0                   4.3   \n",
            "1                     0.0                  59.4                   5.8   \n",
            "2                     0.0                  97.0                  10.1   \n",
            "3                     0.0                  66.9                  12.1   \n",
            "4                     0.0                  80.1                   6.5   \n",
            "\n",
            "  Wind Direction_api  \n",
            "0                 NE  \n",
            "1                 NW  \n",
            "2                  E  \n",
            "3                 NE  \n",
            "4                 NW  \n",
            "   Station.State_dataset  Date.Year_dataset  Date.Month_dataset  \\\n",
            "39                  Utah               2016                   3   \n",
            "40               Vermont               2016                   3   \n",
            "41              Virginia               2016                   3   \n",
            "42         West Virginia               2016                   3   \n",
            "43             Wisconsin               2016                   3   \n",
            "\n",
            "    Data.Precipitation_dataset  Data.Temperature.Avg Temp_dataset  \\\n",
            "39                        0.36                              47.75   \n",
            "40                        0.42                              35.00   \n",
            "41                        0.47                              52.38   \n",
            "42                        0.54                              49.12   \n",
            "43                        0.71                              38.12   \n",
            "\n",
            "    Data.Wind.Speed_dataset  Data.Wind.Direction_dataset          Time_api  \\\n",
            "39                     5.07                        23.25  2025-05-09 19:15   \n",
            "40                     6.10                        24.50  2025-05-09 21:15   \n",
            "41                     6.60                        17.50  2025-05-09 21:15   \n",
            "42                     4.70                        21.50  2025-05-09 21:15   \n",
            "43                     7.16                        17.00  2025-05-09 20:15   \n",
            "\n",
            "    Precipitation (mm)_api  Temperature (°F)_api  Wind Speed (mph)_api  \\\n",
            "39                     0.0                  71.2                   5.1   \n",
            "40                     0.0                  48.0                   4.5   \n",
            "41                     0.0                  52.3                   4.3   \n",
            "42                     0.0                  52.0                   4.7   \n",
            "43                     0.0                  68.2                   6.7   \n",
            "\n",
            "   Wind Direction_api  \n",
            "39                 NW  \n",
            "40                ENE  \n",
            "41                  N  \n",
            "42                  N  \n",
            "43                 SW  \n"
          ]
        }
      ]
    },
    {
      "cell_type": "code",
      "source": [
        "# save merged dataset as csv file\n",
        "final_df2.to_csv(\"final_weather_comparison.csv\", index=False)\n",
        "print(final_df2.head())"
      ],
      "metadata": {
        "colab": {
          "base_uri": "https://localhost:8080/"
        },
        "id": "Wg6NnAdLYPVP",
        "outputId": "a265a303-aa42-45e9-9ab0-ffefdf36295c"
      },
      "execution_count": 11,
      "outputs": [
        {
          "output_type": "stream",
          "name": "stdout",
          "text": [
            "  Station.State_dataset  Date.Year_dataset  Date.Month_dataset  \\\n",
            "0               Alabama               2016                   3   \n",
            "1                Alaska               2016                   3   \n",
            "2               Arizona               2016                   3   \n",
            "3              Arkansas               2016                   3   \n",
            "4            California               2016                   3   \n",
            "\n",
            "   Data.Precipitation_dataset  Data.Temperature.Avg Temp_dataset  \\\n",
            "0                        1.30                              60.31   \n",
            "1                        0.36                              31.48   \n",
            "2                        0.02                              59.85   \n",
            "3                        1.26                              55.00   \n",
            "4                        0.84                              57.88   \n",
            "\n",
            "   Data.Wind.Speed_dataset  Data.Wind.Direction_dataset          Time_api  \\\n",
            "0                     6.60                        19.88  2025-05-09 20:15   \n",
            "1                     6.44                        14.17  2025-05-09 17:15   \n",
            "2                     4.81                        20.80  2025-05-09 18:15   \n",
            "3                     4.41                        11.83  2025-05-09 20:15   \n",
            "4                     5.41                        22.04  2025-05-09 18:15   \n",
            "\n",
            "   Precipitation (mm)_api  Temperature (°F)_api  Wind Speed (mph)_api  \\\n",
            "0                     0.0                  70.0                   4.3   \n",
            "1                     0.0                  59.4                   5.8   \n",
            "2                     0.0                  97.0                  10.1   \n",
            "3                     0.0                  66.9                  12.1   \n",
            "4                     0.0                  80.1                   6.5   \n",
            "\n",
            "  Wind Direction_api  \n",
            "0                 NE  \n",
            "1                 NW  \n",
            "2                  E  \n",
            "3                 NE  \n",
            "4                 NW  \n"
          ]
        }
      ]
    }
  ]
}